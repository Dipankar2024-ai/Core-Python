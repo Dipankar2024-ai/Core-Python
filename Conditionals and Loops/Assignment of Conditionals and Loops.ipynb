{
 "cells": [
  {
   "cell_type": "markdown",
   "id": "07d8c912",
   "metadata": {},
   "source": [
    "# calculator"
   ]
  },
  {
   "cell_type": "code",
   "execution_count": 4,
   "id": "31c97f21",
   "metadata": {},
   "outputs": [
    {
     "name": "stdout",
     "output_type": "stream",
     "text": [
      "3\n",
      "1\n",
      "2\n",
      "2\n",
      "4\n",
      "4\n",
      "2\n",
      "2\n",
      "1\n",
      "3\n",
      "2\n",
      "5\n",
      "7\n",
      "Invalid Input\n",
      "6\n"
     ]
    }
   ],
   "source": [
    "while True:\n",
    "    n=int(input())\n",
    "    if n==1:\n",
    "        a=int(input())\n",
    "        b=int(input())\n",
    "        sum=a+b\n",
    "        print(sum)\n",
    "    if n==2:\n",
    "        a=int(input())\n",
    "        b=int(input())\n",
    "        diff=a-b\n",
    "        print(diff)\n",
    "    if n==3:\n",
    "        a=int(input())\n",
    "        b=int(input())\n",
    "        mul=a*b\n",
    "        print(mul)\n",
    "    if n==4:\n",
    "        a=int(input())\n",
    "        b=int(input())\n",
    "        div=a//b\n",
    "        print(div)\n",
    "    if n==5:\n",
    "        a=int(input())\n",
    "        b=int(input())\n",
    "        rem=a%b\n",
    "        print(rem)\n",
    "    if n==6:\n",
    "        break\n",
    "    if n==7:\n",
    "        print(\"Invalid Input\")\n",
    "        \n",
    "        \n",
    "        \n",
    "    "
   ]
  },
  {
   "cell_type": "markdown",
   "id": "1167a35c",
   "metadata": {},
   "source": [
    "# Reverse a Number"
   ]
  },
  {
   "cell_type": "code",
   "execution_count": 8,
   "id": "58dcbdbe",
   "metadata": {},
   "outputs": [
    {
     "name": "stdout",
     "output_type": "stream",
     "text": [
      "1980\n",
      "891\n"
     ]
    }
   ],
   "source": [
    "n=int(input())\n",
    "temp=n\n",
    "rev=0\n",
    "while temp>0:\n",
    "    rem=temp%10\n",
    "    rev=rev*10+rem\n",
    "    temp=temp//10\n",
    "print(rev)\n",
    "    "
   ]
  },
  {
   "cell_type": "markdown",
   "id": "7d62304d",
   "metadata": {},
   "source": [
    "# Palindrome Number"
   ]
  },
  {
   "cell_type": "code",
   "execution_count": 12,
   "id": "e6d33b58",
   "metadata": {},
   "outputs": [
    {
     "name": "stdout",
     "output_type": "stream",
     "text": [
      "121\n",
      "true\n"
     ]
    }
   ],
   "source": [
    "n=int(input())\n",
    "temp=n\n",
    "rev=0\n",
    "while temp>0:\n",
    "    rem=temp%10\n",
    "    rev=rev*10+rem\n",
    "    temp=temp//10\n",
    "if rev==n:\n",
    "    print(\"true\")\n",
    "else:\n",
    "    print(\"false\")"
   ]
  },
  {
   "cell_type": "markdown",
   "id": "ef056d28",
   "metadata": {},
   "source": [
    "# Sum of Even and odd digits"
   ]
  },
  {
   "cell_type": "code",
   "execution_count": 15,
   "id": "68525582",
   "metadata": {},
   "outputs": [
    {
     "name": "stdout",
     "output_type": "stream",
     "text": [
      "552245\n",
      "8 15\n"
     ]
    }
   ],
   "source": [
    "n=int(input())\n",
    "temp=n\n",
    "even_sum=0\n",
    "odd_sum=0\n",
    "while temp>0:\n",
    "    rem=temp%10\n",
    "    if rem%2==0:\n",
    "        even_sum=even_sum+rem\n",
    "    else:\n",
    "        odd_sum=odd_sum+rem\n",
    "    temp=temp//10\n",
    "print(str(even_sum)+\" \"+str(odd_sum))\n",
    "    "
   ]
  },
  {
   "cell_type": "markdown",
   "id": "76546d66",
   "metadata": {},
   "source": [
    "# Nth fibonacci series"
   ]
  },
  {
   "cell_type": "code",
   "execution_count": 22,
   "id": "2318f23f",
   "metadata": {},
   "outputs": [
    {
     "name": "stdout",
     "output_type": "stream",
     "text": [
      "6\n",
      "8\n"
     ]
    }
   ],
   "source": [
    "n=int(input())\n",
    "a=1\n",
    "b=1\n",
    "i=2\n",
    "while i<n:\n",
    "    c=a+b\n",
    "    a=b\n",
    "    b=c\n",
    "    i=i+1\n",
    "    \n",
    "print(c)\n"
   ]
  }
 ],
 "metadata": {
  "kernelspec": {
   "display_name": "Python 3 (ipykernel)",
   "language": "python",
   "name": "python3"
  },
  "language_info": {
   "codemirror_mode": {
    "name": "ipython",
    "version": 3
   },
   "file_extension": ".py",
   "mimetype": "text/x-python",
   "name": "python",
   "nbconvert_exporter": "python",
   "pygments_lexer": "ipython3",
   "version": "3.11.5"
  }
 },
 "nbformat": 4,
 "nbformat_minor": 5
}
