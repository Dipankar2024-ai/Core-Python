{
 "cells": [
  {
   "cell_type": "markdown",
   "metadata": {},
   "source": [
    "# Check palindrome"
   ]
  },
  {
   "cell_type": "code",
   "execution_count": 6,
   "metadata": {},
   "outputs": [
    {
     "name": "stdout",
     "output_type": "stream",
     "text": [
      "aba\n",
      "Palindrome\n"
     ]
    }
   ],
   "source": [
    "s=input()\n",
    "b=s[::-1]\n",
    "if s==b:\n",
    "    print(\"Palindrome\")\n",
    "else:\n",
    "    print(\"It is not palindrome\")"
   ]
  },
  {
   "cell_type": "markdown",
   "metadata": {},
   "source": [
    "# All possible substrings"
   ]
  },
  {
   "cell_type": "code",
   "execution_count": 1,
   "metadata": {},
   "outputs": [
    {
     "name": "stdout",
     "output_type": "stream",
     "text": [
      "abc\n",
      "a\n",
      "ab\n",
      "abc\n",
      "b\n",
      "bc\n",
      "c\n"
     ]
    }
   ],
   "source": [
    "s=input()\n",
    "n=len(s)\n",
    "\n",
    "for i in range(n):\n",
    "    for j in range(i+1,n+1):\n",
    "        print(s[i:j])\n",
    "    \n",
    "    "
   ]
  },
  {
   "cell_type": "markdown",
   "metadata": {},
   "source": [
    "# Swap Alternate"
   ]
  },
  {
   "cell_type": "code",
   "execution_count": 8,
   "metadata": {},
   "outputs": [
    {
     "name": "stdout",
     "output_type": "stream",
     "text": [
      "2\n",
      "9\n",
      "9 3 6 12 4 32 5 11 19\n",
      "[3, 9, 12, 6, 32, 4, 11, 5, 19]\n",
      "4\n",
      "1 2 3 4\n",
      "[2, 1, 4, 3]\n"
     ]
    }
   ],
   "source": [
    "n=int(input())\n",
    "i=1\n",
    "while i<=n:\n",
    "    a=int(input())\n",
    "    l=[int(s) for s in input().split()]\n",
    "    for j in range(0,len(l)-1,2):\n",
    "        l[j],l[j+1]=l[j+1],l[j]\n",
    "    print(l)\n",
    "    i=i+1"
   ]
  },
  {
   "cell_type": "markdown",
   "metadata": {},
   "source": [
    "# Array EquilibriuM index"
   ]
  },
  {
   "cell_type": "code",
   "execution_count": 20,
   "metadata": {},
   "outputs": [
    {
     "name": "stdout",
     "output_type": "stream",
     "text": [
      "1\n",
      "7\n",
      "2 3 10 -10 4 2 9\n",
      "2\n"
     ]
    }
   ],
   "source": [
    "n=int(input())\n",
    "i=1\n",
    "while i<=n:\n",
    "    a=int(input())\n",
    "    li=[int(s) for s in input().split()]\n",
    "    index=-1\n",
    "    for i in range(1,len(li)-1):\n",
    "        #print(sum(li[:i]))\n",
    "        #print(sum(li[i+1:]))\n",
    "        if sum(li[:i])==sum(li[i+1:]):\n",
    "            \n",
    "            index=i\n",
    "            break\n",
    "    print(index)\n",
    "    i=i+1\n",
    "        "
   ]
  },
  {
   "cell_type": "markdown",
   "metadata": {},
   "source": [
    "# Taking Input for 2D list"
   ]
  },
  {
   "cell_type": "code",
   "execution_count": 25,
   "metadata": {},
   "outputs": [
    {
     "name": "stdout",
     "output_type": "stream",
     "text": [
      "3 4\n",
      "1 2 3 4\n",
      "5 6 7 8\n",
      "9 10 11 12\n"
     ]
    },
    {
     "data": {
      "text/plain": [
       "[[1, 2, 3, 4], [5, 6, 7, 8], [9, 10, 11, 12]]"
      ]
     },
     "execution_count": 25,
     "metadata": {},
     "output_type": "execute_result"
    }
   ],
   "source": [
    "sizes=input().split()\n",
    "m=int(sizes[0])\n",
    "n=int(sizes[1])\n",
    "l=[]\n",
    "for i in range(m):\n",
    "    next_row=[int(s) for s in input().split()]\n",
    "    l.append(next_row)\n",
    "l"
   ]
  },
  {
   "cell_type": "code",
   "execution_count": 31,
   "metadata": {},
   "outputs": [
    {
     "name": "stdout",
     "output_type": "stream",
     "text": [
      "3 4\n",
      "1\n",
      "2\n",
      "3\n",
      "4\n",
      "5\n",
      "6\n",
      "7\n",
      "8\n",
      "9\n",
      "10\n",
      "11\n",
      "12\n"
     ]
    },
    {
     "data": {
      "text/plain": [
       "[[1, 2, 3, 4], [5, 6, 7, 8], [9, 10, 11, 12]]"
      ]
     },
     "execution_count": 31,
     "metadata": {},
     "output_type": "execute_result"
    }
   ],
   "source": [
    "sizes=input().split()\n",
    "m=int(sizes[0])\n",
    "n=int(sizes[1])\n",
    "l=[]\n",
    "for i in range(m):\n",
    "    next_row=[]\n",
    "    for j in range(n):\n",
    "        element=int(input())\n",
    "        next_row.append(element)\n",
    "    l.append(next_row)\n",
    "l\n",
    "    "
   ]
  },
  {
   "cell_type": "code",
   "execution_count": 35,
   "metadata": {},
   "outputs": [
    {
     "name": "stdout",
     "output_type": "stream",
     "text": [
      "3 4\n",
      "1 2 3 4 5 6 7 8 9 10 11 12\n"
     ]
    },
    {
     "data": {
      "text/plain": [
       "[[1, 2, 3, 4], [5, 6, 7, 8], [9, 10, 11, 12]]"
      ]
     },
     "execution_count": 35,
     "metadata": {},
     "output_type": "execute_result"
    }
   ],
   "source": [
    "sizes=input().split()\n",
    "m=int(sizes[0])\n",
    "n=int(sizes[1])\n",
    "l_ld=[int(i) for i in input().split()]\n",
    "l=[]\n",
    "for i in range(m):\n",
    "    startindex=4*i\n",
    "    endindex=4*(i+1)\n",
    "    next_row=l_ld[startindex : endindex]\n",
    "    l.append(next_row)\n",
    "l\n",
    "    "
   ]
  },
  {
   "cell_type": "markdown",
   "metadata": {},
   "source": [
    "# Taking input in single line"
   ]
  },
  {
   "cell_type": "code",
   "execution_count": 36,
   "metadata": {},
   "outputs": [
    {
     "data": {
      "text/plain": [
       "[[0, 1, 2, 3, 4],\n",
       " [0, 1, 2, 3, 4],\n",
       " [0, 1, 2, 3, 4],\n",
       " [0, 1, 2, 3, 4],\n",
       " [0, 1, 2, 3, 4],\n",
       " [0, 1, 2, 3, 4],\n",
       " [0, 1, 2, 3, 4],\n",
       " [0, 1, 2, 3, 4],\n",
       " [0, 1, 2, 3, 4],\n",
       " [0, 1, 2, 3, 4]]"
      ]
     },
     "execution_count": 36,
     "metadata": {},
     "output_type": "execute_result"
    }
   ],
   "source": [
    "a=[[j for j in range(5)] for i in range(10)]\n",
    "a"
   ]
  },
  {
   "cell_type": "code",
   "execution_count": 37,
   "metadata": {},
   "outputs": [
    {
     "data": {
      "text/plain": [
       "[[0, 0, 0, 0, 0],\n",
       " [1, 1, 1, 1, 1],\n",
       " [2, 2, 2, 2, 2],\n",
       " [3, 3, 3, 3, 3],\n",
       " [4, 4, 4, 4, 4],\n",
       " [5, 5, 5, 5, 5],\n",
       " [6, 6, 6, 6, 6],\n",
       " [7, 7, 7, 7, 7],\n",
       " [8, 8, 8, 8, 8],\n",
       " [9, 9, 9, 9, 9]]"
      ]
     },
     "execution_count": 37,
     "metadata": {},
     "output_type": "execute_result"
    }
   ],
   "source": [
    "a=[[i for j in range(5)] for i in range(10)]\n",
    "a"
   ]
  },
  {
   "cell_type": "markdown",
   "metadata": {},
   "source": [
    "# Sum column wise 2D list"
   ]
  },
  {
   "cell_type": "code",
   "execution_count": 43,
   "metadata": {},
   "outputs": [
    {
     "name": "stdout",
     "output_type": "stream",
     "text": [
      "0\n",
      "10\n",
      "20\n",
      "30\n",
      "40\n"
     ]
    }
   ],
   "source": [
    "def print_column_wise_sum(a):\n",
    "    m=len(a)\n",
    "    if m==0:\n",
    "        return\n",
    "    n=len(a[0])\n",
    "    for j in range(n):\n",
    "        sum_j=0\n",
    "        for i in range(m):\n",
    "            sum_j=sum_j+a[i][j]\n",
    "        print(sum_j)\n",
    "            \n",
    "a=[[j for j in range(5)] for i in range(10)]\n",
    "print_column_wise_sum(a)\n"
   ]
  },
  {
   "cell_type": "markdown",
   "metadata": {},
   "source": [
    "# Row wise sum 2d list"
   ]
  },
  {
   "cell_type": "code",
   "execution_count": 48,
   "metadata": {},
   "outputs": [
    {
     "name": "stdout",
     "output_type": "stream",
     "text": [
      "10\n",
      "10\n",
      "10\n",
      "10\n",
      "10\n",
      "10\n",
      "10\n",
      "10\n",
      "10\n",
      "10\n"
     ]
    }
   ],
   "source": [
    "def print_row_wise_sum(a):\n",
    "    m=len(a)\n",
    "    if m==0:\n",
    "        return\n",
    "    m=len(a)\n",
    "    n=len(a[0])\n",
    "    for i in range(m):\n",
    "        sum_j=0\n",
    "        for j in range(n):\n",
    "            sum_j=sum_j+a[i][j]\n",
    "        print(sum_j)\n",
    "            \n",
    "a=[[j for j in range(5)] for i in range(10)]\n",
    "print_row_wise_sum(a)"
   ]
  }
 ],
 "metadata": {
  "kernelspec": {
   "display_name": "Python 3",
   "language": "python",
   "name": "python3"
  },
  "language_info": {
   "codemirror_mode": {
    "name": "ipython",
    "version": 3
   },
   "file_extension": ".py",
   "mimetype": "text/x-python",
   "name": "python",
   "nbconvert_exporter": "python",
   "pygments_lexer": "ipython3",
   "version": "3.6.5"
  }
 },
 "nbformat": 4,
 "nbformat_minor": 2
}
