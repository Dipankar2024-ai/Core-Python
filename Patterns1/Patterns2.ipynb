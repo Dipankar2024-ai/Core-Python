{
 "cells": [
  {
   "cell_type": "markdown",
   "id": "9759130a",
   "metadata": {},
   "source": [
    "# Inverted Traingle"
   ]
  },
  {
   "cell_type": "code",
   "execution_count": null,
   "id": "db004cc0",
   "metadata": {},
   "outputs": [],
   "source": [
    "****\n",
    "***\n",
    "**\n",
    "*"
   ]
  },
  {
   "cell_type": "code",
   "execution_count": 3,
   "id": "f0d70ede",
   "metadata": {},
   "outputs": [
    {
     "name": "stdout",
     "output_type": "stream",
     "text": [
      "4\n",
      "* * * * \n",
      "* * * \n",
      "* * \n",
      "* \n"
     ]
    }
   ],
   "source": [
    "n=int(input())\n",
    "i=1\n",
    "while i<=n:\n",
    "    j=n\n",
    "    while j>=i:\n",
    "        print(\"*\",end=' ')\n",
    "        j=j-1\n",
    "    print()\n",
    "    i=i+1\n",
    "    "
   ]
  },
  {
   "cell_type": "markdown",
   "id": "ee0bfadc",
   "metadata": {},
   "source": [
    "# Inverted Number Pattern"
   ]
  },
  {
   "cell_type": "code",
   "execution_count": null,
   "id": "c5a699c3",
   "metadata": {},
   "outputs": [],
   "source": [
    "1111\n",
    "222\n",
    "33\n",
    "4"
   ]
  },
  {
   "cell_type": "code",
   "execution_count": 4,
   "id": "0755a0a8",
   "metadata": {},
   "outputs": [
    {
     "name": "stdout",
     "output_type": "stream",
     "text": [
      "4\n",
      "1 1 1 1 \n",
      "2 2 2 \n",
      "3 3 \n",
      "4 \n"
     ]
    }
   ],
   "source": [
    "n=int(input())\n",
    "i=1\n",
    "while i<=n:\n",
    "    j=n\n",
    "    while j>=i:\n",
    "        print(i,end=' ')\n",
    "        j=j-1\n",
    "    print()\n",
    "    i=i+1"
   ]
  },
  {
   "cell_type": "markdown",
   "id": "25fd6bde",
   "metadata": {},
   "source": [
    "# Reversed Pattern"
   ]
  },
  {
   "cell_type": "code",
   "execution_count": null,
   "id": "c2a6f1ab",
   "metadata": {},
   "outputs": [],
   "source": [
    "    *\n",
    "   **\n",
    "  ***\n",
    " ****"
   ]
  },
  {
   "cell_type": "code",
   "execution_count": 5,
   "id": "ce0eff6e",
   "metadata": {},
   "outputs": [
    {
     "name": "stdout",
     "output_type": "stream",
     "text": [
      "4\n",
      "      * \n",
      "    * * \n",
      "  * * * \n",
      "* * * * \n"
     ]
    }
   ],
   "source": [
    "n=int(input())\n",
    "i=1\n",
    "while i<=n:\n",
    "    j=1\n",
    "    while j<=n-i:\n",
    "        print(\" \",end=' ')\n",
    "        j=j+1\n",
    "    k=1\n",
    "    while k<=i:\n",
    "        print(\"*\",end=' ')\n",
    "        k+=1\n",
    "    print()\n",
    "    i+=1\n"
   ]
  },
  {
   "cell_type": "markdown",
   "id": "9a154be5",
   "metadata": {},
   "source": [
    "# Mirror Number Pattern"
   ]
  },
  {
   "cell_type": "code",
   "execution_count": null,
   "id": "8f969eb2",
   "metadata": {},
   "outputs": [],
   "source": [
    "    1\n",
    "   12\n",
    "  123\n",
    " 1234"
   ]
  },
  {
   "cell_type": "code",
   "execution_count": 6,
   "id": "4eee1f04",
   "metadata": {},
   "outputs": [
    {
     "name": "stdout",
     "output_type": "stream",
     "text": [
      "4\n",
      "      1 \n",
      "    1 2 \n",
      "  1 2 3 \n",
      "1 2 3 4 \n"
     ]
    }
   ],
   "source": [
    "n=int(input())\n",
    "i=1\n",
    "while i<=n:\n",
    "    j=1\n",
    "    while j<=n-i:\n",
    "        print(\" \",end=' ')\n",
    "        j=j+1\n",
    "    k=1\n",
    "    while k<=i:\n",
    "        print(k,end=' ')\n",
    "        k+=1\n",
    "    print()\n",
    "    i+=1"
   ]
  },
  {
   "cell_type": "markdown",
   "id": "088bd532",
   "metadata": {},
   "source": [
    "# Isosceles Pattern"
   ]
  },
  {
   "cell_type": "code",
   "execution_count": null,
   "id": "e185c428",
   "metadata": {},
   "outputs": [],
   "source": [
    "     1\n",
    "    121\n",
    "   12321\n",
    "  1234321"
   ]
  },
  {
   "cell_type": "code",
   "execution_count": 12,
   "id": "a7c71eca",
   "metadata": {},
   "outputs": [
    {
     "name": "stdout",
     "output_type": "stream",
     "text": [
      "4\n",
      "      1 \n",
      "    1 2 1 \n",
      "  1 2 3 2 1 \n",
      "1 2 3 4 3 2 1 \n"
     ]
    }
   ],
   "source": [
    "n=int(input())\n",
    "i=1\n",
    "while i<=n:\n",
    "    j=1\n",
    "    while j<=n-i:\n",
    "        print(\" \",end=' ')\n",
    "        j+=1\n",
    "    k=1\n",
    "    while k<=i:\n",
    "        print(k,end=' ')\n",
    "        k+=1\n",
    "    m=i-1\n",
    "    while m>0:\n",
    "        print(m,end=' ')\n",
    "        m=m-1\n",
    "    print()\n",
    "    i=i+1"
   ]
  },
  {
   "cell_type": "markdown",
   "id": "7ca482ff",
   "metadata": {},
   "source": [
    "# Traingle of Numbers"
   ]
  },
  {
   "cell_type": "code",
   "execution_count": null,
   "id": "c6ed25a7",
   "metadata": {},
   "outputs": [],
   "source": [
    "    1\n",
    "   232\n",
    "  34543\n",
    " 4567654"
   ]
  },
  {
   "cell_type": "code",
   "execution_count": 19,
   "id": "9f2848f6",
   "metadata": {},
   "outputs": [
    {
     "name": "stdout",
     "output_type": "stream",
     "text": [
      "4\n",
      "      1 \n",
      "    2 3 2 \n",
      "  3 4 5 4 3 \n",
      "4 5 6 7 6 5 4 \n"
     ]
    }
   ],
   "source": [
    "n=int(input())\n",
    "i=1\n",
    "while i<=n:\n",
    "    j=1\n",
    "    \n",
    "    while j<=n-i:\n",
    "        print(\" \",end=' ')\n",
    "        j+=1\n",
    "    k=1\n",
    "    p=i\n",
    "\n",
    "    while k<=i:\n",
    "        print(p,end=' ')\n",
    "        k+=1\n",
    "        p+=1\n",
    "    m=i-1\n",
    "    r=2*(i-1)\n",
    "    while m>0:\n",
    "        print(r,end=' ')\n",
    "        m=m-1\n",
    "        r=r-1\n",
    "    print()\n",
    "    i=i+1"
   ]
  },
  {
   "cell_type": "markdown",
   "id": "0ee811fc",
   "metadata": {},
   "source": [
    "# Diamond of stars"
   ]
  },
  {
   "cell_type": "code",
   "execution_count": null,
   "id": "55973b8c",
   "metadata": {},
   "outputs": [],
   "source": [
    "     *\n",
    "    ***\n",
    "   *****\n",
    "  *******\n",
    "   *****\n",
    "    ***\n",
    "     *\n",
    "   "
   ]
  },
  {
   "cell_type": "code",
   "execution_count": 35,
   "id": "cf5205b2",
   "metadata": {},
   "outputs": [
    {
     "name": "stdout",
     "output_type": "stream",
     "text": [
      "7\n",
      "      * \n",
      "    * * * \n",
      "  * * * * * \n",
      "* * * * * * * \n",
      "  * * * * * \n",
      "    * * * \n",
      "      * \n"
     ]
    }
   ],
   "source": [
    "n1=int(input())\n",
    "n=(n1+1)//2\n",
    "m=n1-n\n",
    "i=1\n",
    "while i<=n:\n",
    "    j=1\n",
    "    while j<=n-i:\n",
    "        print(\" \",end=' ')\n",
    "        j+=1\n",
    "    k=1\n",
    "    while k<=2*i-1:\n",
    "        print(\"*\",end=' ')\n",
    "        k+=1\n",
    "    print()\n",
    "    i+=1\n",
    "i=m\n",
    "while i>=1:\n",
    "    j=m\n",
    "    while j>=i:\n",
    "        print(\" \",end=' ')\n",
    "        j-=1\n",
    "    k=1\n",
    "    while k<=2*i-1:\n",
    "        print(\"*\",end=' ')\n",
    "        k+=1\n",
    "    print()\n",
    "    i=i-1\n",
    "    \n",
    "    "
   ]
  }
 ],
 "metadata": {
  "kernelspec": {
   "display_name": "Python 3 (ipykernel)",
   "language": "python",
   "name": "python3"
  },
  "language_info": {
   "codemirror_mode": {
    "name": "ipython",
    "version": 3
   },
   "file_extension": ".py",
   "mimetype": "text/x-python",
   "name": "python",
   "nbconvert_exporter": "python",
   "pygments_lexer": "ipython3",
   "version": "3.11.5"
  }
 },
 "nbformat": 4,
 "nbformat_minor": 5
}
