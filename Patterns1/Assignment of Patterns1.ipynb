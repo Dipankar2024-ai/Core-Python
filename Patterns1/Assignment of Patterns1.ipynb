{
 "cells": [
  {
   "cell_type": "code",
   "execution_count": null,
   "id": "cc018ded",
   "metadata": {},
   "outputs": [],
   "source": [
    "1\n",
    "11\n",
    "111\n",
    "111"
   ]
  },
  {
   "cell_type": "code",
   "execution_count": 1,
   "id": "7d2707a9",
   "metadata": {},
   "outputs": [
    {
     "name": "stdout",
     "output_type": "stream",
     "text": [
      "4\n",
      "1 \n",
      "1 1 \n",
      "1 1 1 \n",
      "1 1 1 1 \n"
     ]
    }
   ],
   "source": [
    "n=int(input())\n",
    "m=1\n",
    "i=1\n",
    "while i<=n:\n",
    "    j=1\n",
    "    while j<=i:\n",
    "        print(m,end=' ')\n",
    "        j+=1\n",
    "    i+=1\n",
    "    print('')\n",
    "        "
   ]
  },
  {
   "cell_type": "markdown",
   "id": "2356301a",
   "metadata": {},
   "source": [
    "# This is important need more practice"
   ]
  },
  {
   "cell_type": "code",
   "execution_count": null,
   "id": "cc31013d",
   "metadata": {},
   "outputs": [],
   "source": [
    "1\n",
    "11\n",
    "202\n",
    "3003"
   ]
  },
  {
   "cell_type": "code",
   "execution_count": 2,
   "id": "4208b0c7",
   "metadata": {},
   "outputs": [
    {
     "name": "stdout",
     "output_type": "stream",
     "text": [
      "4\n",
      "1\n",
      "1 1 \n",
      "2 0 2 \n",
      "3 0 0 3 \n",
      "4 0 0 0 4 \n"
     ]
    }
   ],
   "source": [
    "n=int(input())\n",
    "print(1)\n",
    "i=1\n",
    "while i<=n:\n",
    "    j=0\n",
    "    while j<i+1:\n",
    "        if j==0 or j==i:\n",
    "            print(i,end=\" \")\n",
    "        else:\n",
    "            print(\"0\",end=' ')\n",
    "        j=j+1\n",
    "    print('')\n",
    "    i=i+1\n"
   ]
  },
  {
   "cell_type": "code",
   "execution_count": null,
   "id": "59e4a59b",
   "metadata": {},
   "outputs": [],
   "source": [
    "1\n",
    "11\n",
    "121\n",
    "1221"
   ]
  },
  {
   "cell_type": "code",
   "execution_count": 3,
   "id": "4699a86e",
   "metadata": {},
   "outputs": [
    {
     "name": "stdout",
     "output_type": "stream",
     "text": [
      "4\n",
      "1\n",
      "1 \n",
      "1 1 \n",
      "1 2 1 \n",
      "1 2 2 1 \n"
     ]
    }
   ],
   "source": [
    "n=int(input())\n",
    "print(1)\n",
    "i=1\n",
    "while i<=n:\n",
    "    j=1\n",
    "    while j<=i:\n",
    "        if j==1 or j==i:\n",
    "            print(\"1\",end=\" \")\n",
    "        else:\n",
    "            print(\"2\",end=' ')\n",
    "        j=j+1\n",
    "    print('')\n",
    "    i=i+1"
   ]
  },
  {
   "cell_type": "code",
   "execution_count": null,
   "id": "afa51373",
   "metadata": {},
   "outputs": [],
   "source": [
    "1234\n",
    "123\n",
    "12\n",
    "1"
   ]
  },
  {
   "cell_type": "code",
   "execution_count": 4,
   "id": "5b12e04b",
   "metadata": {},
   "outputs": [
    {
     "name": "stdout",
     "output_type": "stream",
     "text": [
      "4\n",
      "1 2 3 4 \n",
      "1 2 3 \n",
      "1 2 \n",
      "1 \n"
     ]
    }
   ],
   "source": [
    "n=int(input())\n",
    "i=1\n",
    "while i<=n:\n",
    "    j=1\n",
    "    while j<=n-i+1:\n",
    "        print(j,end=' ')\n",
    "        j+=1\n",
    "    print()\n",
    "    i=i+1\n",
    "    "
   ]
  },
  {
   "cell_type": "code",
   "execution_count": null,
   "id": "cc54e6bf",
   "metadata": {},
   "outputs": [],
   "source": [
    "A\n",
    "BB\n",
    "CCC"
   ]
  },
  {
   "cell_type": "code",
   "execution_count": 7,
   "id": "26f99604",
   "metadata": {},
   "outputs": [
    {
     "name": "stdout",
     "output_type": "stream",
     "text": [
      "4\n",
      "A \n",
      "B B \n",
      "C C C \n",
      "D D D D \n"
     ]
    }
   ],
   "source": [
    "n=int(input())\n",
    "x=ord('A')\n",
    "i=1\n",
    "while i<=n:\n",
    "    value=x+i-1\n",
    "    j=1\n",
    "    while j<=i:\n",
    "        print(chr(value),end=' ')\n",
    "        j+=1\n",
    "    print()\n",
    "    i+=1"
   ]
  }
 ],
 "metadata": {
  "kernelspec": {
   "display_name": "Python 3 (ipykernel)",
   "language": "python",
   "name": "python3"
  },
  "language_info": {
   "codemirror_mode": {
    "name": "ipython",
    "version": 3
   },
   "file_extension": ".py",
   "mimetype": "text/x-python",
   "name": "python",
   "nbconvert_exporter": "python",
   "pygments_lexer": "ipython3",
   "version": "3.11.5"
  }
 },
 "nbformat": 4,
 "nbformat_minor": 5
}
