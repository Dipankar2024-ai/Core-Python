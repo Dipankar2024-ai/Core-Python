{
 "cells": [
  {
   "cell_type": "code",
   "execution_count": null,
   "id": "50578564",
   "metadata": {},
   "outputs": [],
   "source": [
    "1      1 \n",
    "12    21\n",
    "123  321\n",
    "12344321"
   ]
  },
  {
   "cell_type": "code",
   "execution_count": 7,
   "id": "4a77f19d",
   "metadata": {},
   "outputs": [
    {
     "name": "stdout",
     "output_type": "stream",
     "text": [
      "4\n",
      "1             1 \n",
      "1 2         2 1 \n",
      "1 2 3     3 2 1 \n",
      "1 2 3 4 4 3 2 1 \n"
     ]
    }
   ],
   "source": [
    "n=int(input())\n",
    "i=1\n",
    "while i<=n:\n",
    "    j=1\n",
    "    while j<=i:\n",
    "        print(j,end=\" \")\n",
    "        j=j+1\n",
    "        \n",
    "    m=2*(n-i)\n",
    "    while m>=1:\n",
    "        print(\" \",end=\" \")\n",
    "        m=m-1\n",
    "    p=i\n",
    "    k=1\n",
    "    while k<=i:\n",
    "        print(p,end=\" \")\n",
    "        k=k+1\n",
    "        p=p-1\n",
    "    print(\"\")\n",
    "    \n",
    "    i=i+1"
   ]
  },
  {
   "cell_type": "code",
   "execution_count": 17,
   "id": "868ac682",
   "metadata": {},
   "outputs": [
    {
     "name": "stdout",
     "output_type": "stream",
     "text": [
      "7\n",
      "* \n",
      "- * - * \n",
      "- - * - * - * \n",
      "- - - * - * - * - * \n",
      "- - * - * - * \n",
      "- * - * \n",
      "* \n"
     ]
    }
   ],
   "source": [
    "n1=int(input())\n",
    "n=(n1+1)//2\n",
    "m=n1-n\n",
    "i=1\n",
    "while i<=n:\n",
    "    j=1\n",
    "    while i>j:\n",
    "        print(\"-\",end=\" \")\n",
    "        j+=1\n",
    "    k=2*i-1\n",
    "    while k>=1:\n",
    "        if k%2==1:\n",
    "            print(\"*\",end=\" \")\n",
    "        else:\n",
    "            print(\"-\",end=\" \")\n",
    "        k=k-1\n",
    "    print()\n",
    "    i+=1\n",
    "i=m\n",
    "while i>=1:\n",
    "    k=1\n",
    "    while i>k:\n",
    "        print(\"-\",end=\" \")\n",
    "        k=k+1\n",
    "    j=2*i-1\n",
    "    while j>=1:\n",
    "        if j%2==1:\n",
    "            print(\"*\",end=\" \")\n",
    "        else:\n",
    "            print(\"-\",end=\" \")\n",
    "        j=j-1\n",
    "    print()\n",
    "    i=i-1\n",
    "            \n",
    "    \n"
   ]
  }
 ],
 "metadata": {
  "kernelspec": {
   "display_name": "Python 3 (ipykernel)",
   "language": "python",
   "name": "python3"
  },
  "language_info": {
   "codemirror_mode": {
    "name": "ipython",
    "version": 3
   },
   "file_extension": ".py",
   "mimetype": "text/x-python",
   "name": "python",
   "nbconvert_exporter": "python",
   "pygments_lexer": "ipython3",
   "version": "3.9.7"
  }
 },
 "nbformat": 4,
 "nbformat_minor": 5
}
